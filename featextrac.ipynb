{
 "cells": [
  {
   "cell_type": "markdown",
   "id": "f60cde82",
   "metadata": {},
   "source": [
    "# Improving Classification Models using Feature Extraction"
   ]
  },
  {
   "cell_type": "markdown",
   "id": "0e59d277",
   "metadata": {},
   "source": [
    "Logistic Regression is tested for all 3 Feature Selection Algorithms and all 5 Sampling Methods to compare Prediction Accuracies before and after those algorithms are implemented. The respective accuracies are stored in different variables for each algorithm and presented along the original accuracy score in the end, as can be seen below."
   ]
  },
  {
   "cell_type": "code",
   "execution_count": 1,
   "id": "4fe4fdf7",
   "metadata": {},
   "outputs": [],
   "source": [
    "import pandas as pd\n",
    "from sklearn.model_selection import train_test_split\n",
    "from sklearn.linear_model import LogisticRegression\n",
    "from sklearn.metrics import accuracy_score\n",
    "from scipy.stats import pearsonr\n",
    "from sklearn.feature_selection import RFE\n",
    "from sklearn.ensemble import RandomForestClassifier\n",
    "from imblearn.over_sampling import RandomOverSampler\n",
    "from imblearn.under_sampling import RandomUnderSampler\n",
    "from imblearn.over_sampling import SMOTE\n",
    "from imblearn.over_sampling import ADASYN\n",
    "from imblearn.under_sampling import CondensedNearestNeighbour"
   ]
  },
  {
   "cell_type": "code",
   "execution_count": 2,
   "id": "8ea79c71",
   "metadata": {},
   "outputs": [],
   "source": [
    "import warnings\n",
    "warnings.filterwarnings('ignore')"
   ]
  },
  {
   "cell_type": "code",
   "execution_count": 3,
   "id": "858f21fe",
   "metadata": {},
   "outputs": [],
   "source": [
    "# Load the dataset\n",
    "data = pd.read_csv('dataset.csv')\n",
    "\n",
    "# Separate the features and target variable\n",
    "X = data.iloc[:, 2:-1]\n",
    "Y = data.iloc[:, 1]"
   ]
  },
  {
   "cell_type": "code",
   "execution_count": 4,
   "id": "82fa796d",
   "metadata": {},
   "outputs": [],
   "source": [
    "# Convert target variable to numeric labels\n",
    "y_labels = Y.unique()\n",
    "y_dict = {y_labels[i]: i for i in range(len(y_labels))}\n",
    "Y = Y.map(y_dict)"
   ]
  },
  {
   "cell_type": "code",
   "execution_count": 5,
   "id": "8d8cd608",
   "metadata": {},
   "outputs": [],
   "source": [
    "# Split the dataset into training and testing sets\n",
    "X_train, X_test, Y_train, Y_test = train_test_split(X, Y, test_size=0.2, random_state=42)"
   ]
  },
  {
   "cell_type": "markdown",
   "id": "b0d01ede",
   "metadata": {},
   "source": [
    "### Logistic Regression Classification is used for Analysis"
   ]
  },
  {
   "cell_type": "code",
   "execution_count": 6,
   "id": "9689e698",
   "metadata": {},
   "outputs": [],
   "source": [
    "# Train a logistic regression model on the full dataset\n",
    "lr_full = LogisticRegression(random_state=42)\n",
    "lr_full.fit(X_train, Y_train)\n",
    "Y_pred_full = lr_full.predict(X_test)\n",
    "acc_full = accuracy_score(Y_test, Y_pred_full)"
   ]
  },
  {
   "cell_type": "markdown",
   "id": "dbc29384",
   "metadata": {},
   "source": [
    "### Feature Selection using Pearson Correlation"
   ]
  },
  {
   "cell_type": "code",
   "execution_count": 7,
   "id": "d975d1e5",
   "metadata": {},
   "outputs": [],
   "source": [
    "# Calculate the correlation coefficients between each feature and the target variable\n",
    "correlations = []\n",
    "for col in X.columns:\n",
    "    corr, _ = pearsonr(X[col], Y)\n",
    "    correlations.append(abs(corr))"
   ]
  },
  {
   "cell_type": "code",
   "execution_count": 8,
   "id": "621bdf15",
   "metadata": {},
   "outputs": [],
   "source": [
    "# Select the top k features based on their correlation coefficients\n",
    "k = 5\n",
    "pearson_k_features = X.columns[sorted(range(len(correlations)), key=lambda i: correlations[i], reverse=True)[:k]]\n",
    "X_train_pearson = X_train[pearson_k_features]\n",
    "X_test_pearson = X_test[pearson_k_features]"
   ]
  },
  {
   "cell_type": "code",
   "execution_count": 9,
   "id": "ceabeeae",
   "metadata": {},
   "outputs": [],
   "source": [
    "# Train a logistic regression model on the reduced dataset\n",
    "lr_pearson = LogisticRegression(random_state=42)\n",
    "lr_pearson.fit(X_train_pearson, Y_train)\n",
    "Y_pred_pearson = lr_pearson.predict(X_test_pearson)\n",
    "acc_pearson = accuracy_score(Y_test, Y_pred_pearson)"
   ]
  },
  {
   "cell_type": "markdown",
   "id": "7882c2c2",
   "metadata": {},
   "source": [
    "### Feature Selection using Recursive Feature Elimination "
   ]
  },
  {
   "cell_type": "code",
   "execution_count": 10,
   "id": "8e8fd1fb",
   "metadata": {},
   "outputs": [],
   "source": [
    "# Perform recursive feature elimination\n",
    "estimator = LogisticRegression(random_state=42)\n",
    "selector = RFE(estimator, n_features_to_select=5, step=1)\n",
    "selector = selector.fit(X_train, Y_train)"
   ]
  },
  {
   "cell_type": "code",
   "execution_count": 11,
   "id": "1bc23125",
   "metadata": {},
   "outputs": [],
   "source": [
    "# Select the top k features based on the RFE results\n",
    "rfe_k_features = X.columns[selector.support_]\n",
    "X_train_rfe = X_train[rfe_k_features]\n",
    "X_test_rfe = X_test[rfe_k_features]"
   ]
  },
  {
   "cell_type": "code",
   "execution_count": 12,
   "id": "b18996df",
   "metadata": {},
   "outputs": [],
   "source": [
    "# Train a logistic regression model on the reduced dataset\n",
    "lr_rfe = LogisticRegression(random_state=42)\n",
    "lr_rfe.fit(X_train_rfe, Y_train)\n",
    "Y_pred_rfe = lr_rfe.predict(X_test_rfe)\n",
    "acc_rfe = accuracy_score(Y_test, Y_pred_rfe)"
   ]
  },
  {
   "cell_type": "markdown",
   "id": "684fb1f5",
   "metadata": {},
   "source": [
    "### Feature Selection using Random Forests"
   ]
  },
  {
   "cell_type": "code",
   "execution_count": 13,
   "id": "2525dc95",
   "metadata": {},
   "outputs": [],
   "source": [
    "from sklearn.feature_selection import SelectFromModel\n",
    "rf = RandomForestClassifier(n_estimators=100, random_state=42)\n",
    "sfm = SelectFromModel(rf, threshold=0.1)\n",
    "sfm.fit(X_train, Y_train)\n",
    "X_train_rf = sfm.transform(X_train)\n",
    "X_test_rf = sfm.transform(X_test)"
   ]
  },
  {
   "cell_type": "code",
   "execution_count": 14,
   "id": "c29c8662",
   "metadata": {},
   "outputs": [
    {
     "data": {
      "text/plain": [
       "RandomForestClassifier(random_state=42)"
      ]
     },
     "execution_count": 14,
     "metadata": {},
     "output_type": "execute_result"
    }
   ],
   "source": [
    "rf_new = RandomForestClassifier(n_estimators=100, random_state=42)\n",
    "rf_new.fit(X_train_rf, Y_train)"
   ]
  },
  {
   "cell_type": "code",
   "execution_count": 15,
   "id": "96c05822",
   "metadata": {},
   "outputs": [],
   "source": [
    "Y_pred_rf = rf_new.predict(X_test_rf)\n",
    "acc_rf = accuracy_score(Y_test, Y_pred_rf)"
   ]
  },
  {
   "cell_type": "markdown",
   "id": "7198ffbe",
   "metadata": {},
   "source": [
    "### Random Undersampling"
   ]
  },
  {
   "cell_type": "code",
   "execution_count": 16,
   "id": "16fb1101",
   "metadata": {},
   "outputs": [],
   "source": [
    "rus = RandomUnderSampler(random_state=42)\n",
    "X_train_undersampled, Y_train_undersampled = rus.fit_resample(X_train, Y_train)"
   ]
  },
  {
   "cell_type": "code",
   "execution_count": 17,
   "id": "a056dd20",
   "metadata": {},
   "outputs": [
    {
     "data": {
      "text/plain": [
       "LogisticRegression(random_state=42)"
      ]
     },
     "execution_count": 17,
     "metadata": {},
     "output_type": "execute_result"
    }
   ],
   "source": [
    "lr_undersampling = LogisticRegression(random_state=42)\n",
    "lr_undersampling.fit(X_train_undersampled, Y_train_undersampled)"
   ]
  },
  {
   "cell_type": "code",
   "execution_count": 18,
   "id": "5647ba7a",
   "metadata": {},
   "outputs": [],
   "source": [
    "Y_pred_beforeus = lr_undersampling.predict(X_test)\n",
    "accuracy_before_under = accuracy_score(Y_test, Y_pred_beforeus)\n",
    "\n",
    "Y_pred_undersampled = lr_undersampling.predict(X_test)\n",
    "acc_undersampling = accuracy_score(Y_test, Y_pred_undersampled)"
   ]
  },
  {
   "cell_type": "markdown",
   "id": "d7d6fa1c",
   "metadata": {},
   "source": [
    "### Random Oversampling"
   ]
  },
  {
   "cell_type": "code",
   "execution_count": 19,
   "id": "8f783ada",
   "metadata": {},
   "outputs": [],
   "source": [
    "ros = RandomOverSampler(random_state=42)\n",
    "X_train_oversampled, Y_train_oversampled = ros.fit_resample(X_train, Y_train)"
   ]
  },
  {
   "cell_type": "code",
   "execution_count": 20,
   "id": "6ee47135",
   "metadata": {},
   "outputs": [
    {
     "data": {
      "text/plain": [
       "LogisticRegression(random_state=42)"
      ]
     },
     "execution_count": 20,
     "metadata": {},
     "output_type": "execute_result"
    }
   ],
   "source": [
    "lr_oversampling = LogisticRegression(random_state=42)\n",
    "lr_oversampling.fit(X_train_oversampled, Y_train_oversampled)"
   ]
  },
  {
   "cell_type": "code",
   "execution_count": 21,
   "id": "7735dea6",
   "metadata": {},
   "outputs": [],
   "source": [
    "Y_pred_beforeos = lr_oversampling.predict(X_test)\n",
    "accuracy_before_over = accuracy_score(Y_test, Y_pred_beforeos)\n",
    "\n",
    "Y_pred_oversampled = lr_oversampling.predict(X_test)\n",
    "acc_oversampling = accuracy_score(Y_test, Y_pred_oversampled)"
   ]
  },
  {
   "cell_type": "markdown",
   "id": "48f304c0",
   "metadata": {},
   "source": [
    "### SMOTE Sampling"
   ]
  },
  {
   "cell_type": "code",
   "execution_count": 22,
   "id": "e216128c",
   "metadata": {},
   "outputs": [],
   "source": [
    "smote = SMOTE(random_state=42)\n",
    "X_train_smotesampled, Y_train_smotesampled = smote.fit_resample(X_train, Y_train)"
   ]
  },
  {
   "cell_type": "code",
   "execution_count": 23,
   "id": "039a6829",
   "metadata": {},
   "outputs": [
    {
     "data": {
      "text/plain": [
       "LogisticRegression(random_state=42)"
      ]
     },
     "execution_count": 23,
     "metadata": {},
     "output_type": "execute_result"
    }
   ],
   "source": [
    "lr_smotesampling = LogisticRegression(random_state=42)\n",
    "lr_smotesampling.fit(X_train_smotesampled, Y_train_smotesampled)"
   ]
  },
  {
   "cell_type": "code",
   "execution_count": 24,
   "id": "72cad866",
   "metadata": {},
   "outputs": [],
   "source": [
    "Y_pred_beforesmote = lr_smotesampling.predict(X_test)\n",
    "accuracy_before_smote = accuracy_score(Y_test, Y_pred_beforesmote)\n",
    "\n",
    "Y_pred_smotesampled = lr_smotesampling.predict(X_test)\n",
    "acc_smotesampling = accuracy_score(Y_test, Y_pred_smotesampled)"
   ]
  },
  {
   "cell_type": "markdown",
   "id": "0858cebf",
   "metadata": {},
   "source": [
    "### ADASYN Sampling"
   ]
  },
  {
   "cell_type": "code",
   "execution_count": 25,
   "id": "8e9dfe5a",
   "metadata": {},
   "outputs": [],
   "source": [
    "adasyn = ADASYN(random_state=42)\n",
    "X_train_adasynsampled, Y_train_adasynsampled = adasyn.fit_resample(X_train, Y_train)"
   ]
  },
  {
   "cell_type": "code",
   "execution_count": 26,
   "id": "583a6823",
   "metadata": {},
   "outputs": [
    {
     "data": {
      "text/plain": [
       "LogisticRegression(random_state=42)"
      ]
     },
     "execution_count": 26,
     "metadata": {},
     "output_type": "execute_result"
    }
   ],
   "source": [
    "lr_adasynsampling = LogisticRegression(random_state=42)\n",
    "lr_adasynsampling.fit(X_train_adasynsampled, Y_train_adasynsampled)"
   ]
  },
  {
   "cell_type": "code",
   "execution_count": 27,
   "id": "246e9724",
   "metadata": {},
   "outputs": [],
   "source": [
    "Y_pred_beforeadasyn = lr_adasynsampling.predict(X_test)\n",
    "accuracy_before_adasyn = accuracy_score(Y_test, Y_pred_beforeadasyn)\n",
    "\n",
    "Y_pred_adasynsampled = lr_adasynsampling.predict(X_test)\n",
    "acc_adasynsampling = accuracy_score(Y_test, Y_pred_adasynsampled)"
   ]
  },
  {
   "cell_type": "markdown",
   "id": "9187d948",
   "metadata": {},
   "source": [
    "### A-SUWO Sampling"
   ]
  },
  {
   "cell_type": "code",
   "execution_count": 29,
   "id": "367f5360",
   "metadata": {},
   "outputs": [],
   "source": [
    "cnn = CondensedNearestNeighbour(n_neighbors=1)\n",
    "X_train_asuwosampled, Y_train_asuwosampled = cnn.fit_resample(X_train, Y_train)\n",
    "adasyn = ADASYN(random_state=42)\n",
    "X_train_asuwosampled, Y_train_asuwosampled = adasyn.fit_resample(X_train_asuwosampled, Y_train_asuwosampled)"
   ]
  },
  {
   "cell_type": "code",
   "execution_count": 30,
   "id": "d5f20a1d",
   "metadata": {},
   "outputs": [
    {
     "data": {
      "text/plain": [
       "LogisticRegression(random_state=42)"
      ]
     },
     "execution_count": 30,
     "metadata": {},
     "output_type": "execute_result"
    }
   ],
   "source": [
    "lr_asuwosampling = LogisticRegression(random_state=42)\n",
    "lr_asuwosampling.fit(X_train_asuwosampled, Y_train_asuwosampled)"
   ]
  },
  {
   "cell_type": "code",
   "execution_count": 31,
   "id": "593516d9",
   "metadata": {},
   "outputs": [],
   "source": [
    "Y_pred_beforeasuwo = lr_asuwosampling.predict(X_test)\n",
    "accuracy_before_asuwo = accuracy_score(Y_test, Y_pred_beforeasuwo)\n",
    "\n",
    "Y_pred_asuwosampled = lr_asuwosampling.predict(X_test)\n",
    "acc_asuwosampling = accuracy_score(Y_test, Y_pred_asuwosampled)"
   ]
  },
  {
   "cell_type": "markdown",
   "id": "74f0ff66",
   "metadata": {},
   "source": [
    "### Classification Accuracy Metrics Before/After Feature Selection & Sampling Methods"
   ]
  },
  {
   "cell_type": "code",
   "execution_count": 33,
   "id": "800ce307",
   "metadata": {},
   "outputs": [
    {
     "name": "stdout",
     "output_type": "stream",
     "text": [
      "Original Accuracy of Logistic Regression Model: 96.49%\n",
      "\n",
      "Accuracy after Pearson Feature Selection: 97.37%\n",
      "Accuracy after RFE Feature Selection: 97.37%\n",
      "Accuracy after Random Forest Feature Selection: 95.61%\n",
      "\n",
      "Accuracy after Random Undersampling: 96.49%\n",
      "Accuracy after Random Oversampling: 96.49%\n",
      "Accuracy after SMOTE Sampling: 97.37%\n",
      "Accuracy after ADASYN Sampling: 97.37%\n",
      "Accuracy after A-SUWO Sampling: 93.86%\n"
     ]
    }
   ],
   "source": [
    "# Classification Accuracy Comparisons \n",
    "print(\"Original Accuracy of Logistic Regression Model: {:.2f}%\".format(acc_full * 100))\n",
    "print(\"\")\n",
    "print(\"Accuracy after Pearson Feature Selection: {:.2f}%\".format(acc_pearson * 100))\n",
    "print(\"Accuracy after RFE Feature Selection: {:.2f}%\".format(acc_rfe * 100))\n",
    "print(\"Accuracy after Random Forest Feature Selection: {:.2f}%\".format(acc_rf * 100))\n",
    "print(\"\")\n",
    "print(\"Accuracy after Random Undersampling: {:.2f}%\".format(acc_undersampling * 100))\n",
    "print(\"Accuracy after Random Oversampling: {:.2f}%\".format(acc_oversampling * 100))\n",
    "print(\"Accuracy after SMOTE Sampling: {:.2f}%\".format(acc_smotesampling * 100))\n",
    "print(\"Accuracy after ADASYN Sampling: {:.2f}%\".format(acc_adasynsampling * 100))\n",
    "print(\"Accuracy after A-SUWO Sampling: {:.2f}%\".format(acc_asuwosampling * 100))"
   ]
  },
  {
   "cell_type": "code",
   "execution_count": null,
   "id": "03a3684b",
   "metadata": {},
   "outputs": [],
   "source": []
  }
 ],
 "metadata": {
  "kernelspec": {
   "display_name": "Python 3 (ipykernel)",
   "language": "python",
   "name": "python3"
  },
  "language_info": {
   "codemirror_mode": {
    "name": "ipython",
    "version": 3
   },
   "file_extension": ".py",
   "mimetype": "text/x-python",
   "name": "python",
   "nbconvert_exporter": "python",
   "pygments_lexer": "ipython3",
   "version": "3.9.13"
  }
 },
 "nbformat": 4,
 "nbformat_minor": 5
}
